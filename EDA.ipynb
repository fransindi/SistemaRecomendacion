{
 "cells": [
  {
   "attachments": {},
   "cell_type": "markdown",
   "metadata": {},
   "source": [
    "Ahora en la etapa del EDA o Analisis exploratorio de datos veremos como estan relacionados los datos numericos, tales como el puntaje o la popularidad, veremos tambien las longitudes de las peliculas."
   ]
  },
  {
   "cell_type": "code",
   "execution_count": 1,
   "metadata": {},
   "outputs": [],
   "source": [
    "#importamos librerias necesarias\n",
    "import pandas as pd\n",
    "import numpy as np\n",
    "import matplotlib.pyplot as plt\n",
    "import seaborn as sns"
   ]
  },
  {
   "cell_type": "code",
   "execution_count": 2,
   "metadata": {},
   "outputs": [
    {
     "data": {
      "text/html": [
       "<div>\n",
       "<style scoped>\n",
       "    .dataframe tbody tr th:only-of-type {\n",
       "        vertical-align: middle;\n",
       "    }\n",
       "\n",
       "    .dataframe tbody tr th {\n",
       "        vertical-align: top;\n",
       "    }\n",
       "\n",
       "    .dataframe thead th {\n",
       "        text-align: right;\n",
       "    }\n",
       "</style>\n",
       "<table border=\"1\" class=\"dataframe\">\n",
       "  <thead>\n",
       "    <tr style=\"text-align: right;\">\n",
       "      <th></th>\n",
       "      <th>belongs_to_collection</th>\n",
       "      <th>budget</th>\n",
       "      <th>genres</th>\n",
       "      <th>id</th>\n",
       "      <th>original_language</th>\n",
       "      <th>overview</th>\n",
       "      <th>popularity</th>\n",
       "      <th>production_companies</th>\n",
       "      <th>production_countries</th>\n",
       "      <th>release_date</th>\n",
       "      <th>revenue</th>\n",
       "      <th>runtime</th>\n",
       "      <th>spoken_languages</th>\n",
       "      <th>title</th>\n",
       "      <th>vote_average</th>\n",
       "      <th>vote_count</th>\n",
       "      <th>directores</th>\n",
       "      <th>release_year</th>\n",
       "      <th>return</th>\n",
       "    </tr>\n",
       "  </thead>\n",
       "  <tbody>\n",
       "    <tr>\n",
       "      <th>0</th>\n",
       "      <td>Toy Story Collection</td>\n",
       "      <td>30000000.0</td>\n",
       "      <td>['Animation', 'Comedy', 'Family']</td>\n",
       "      <td>862</td>\n",
       "      <td>en</td>\n",
       "      <td>Led by Woody, Andy's toys live happily in his ...</td>\n",
       "      <td>21.946943</td>\n",
       "      <td>['Pixar Animation Studios']</td>\n",
       "      <td>['United States of America']</td>\n",
       "      <td>1995-10-30</td>\n",
       "      <td>373554033.0</td>\n",
       "      <td>81.0</td>\n",
       "      <td>['English']</td>\n",
       "      <td>Toy Story</td>\n",
       "      <td>7.7</td>\n",
       "      <td>5415.0</td>\n",
       "      <td>['John Lasseter']</td>\n",
       "      <td>1995</td>\n",
       "      <td>1145.18011</td>\n",
       "    </tr>\n",
       "    <tr>\n",
       "      <th>1</th>\n",
       "      <td>no_collection</td>\n",
       "      <td>65000000.0</td>\n",
       "      <td>['Adventure', 'Fantasy', 'Family']</td>\n",
       "      <td>8844</td>\n",
       "      <td>en</td>\n",
       "      <td>When siblings Judy and Peter discover an encha...</td>\n",
       "      <td>17.015539</td>\n",
       "      <td>['TriStar Pictures', 'Teitler Film', 'Intersco...</td>\n",
       "      <td>['United States of America']</td>\n",
       "      <td>1995-12-15</td>\n",
       "      <td>262797249.0</td>\n",
       "      <td>104.0</td>\n",
       "      <td>['English', 'Français']</td>\n",
       "      <td>Jumanji</td>\n",
       "      <td>6.9</td>\n",
       "      <td>2413.0</td>\n",
       "      <td>['Joe Johnston']</td>\n",
       "      <td>1995</td>\n",
       "      <td>304.30346</td>\n",
       "    </tr>\n",
       "  </tbody>\n",
       "</table>\n",
       "</div>"
      ],
      "text/plain": [
       "  belongs_to_collection      budget                              genres    id  \\\n",
       "0  Toy Story Collection  30000000.0   ['Animation', 'Comedy', 'Family']   862   \n",
       "1         no_collection  65000000.0  ['Adventure', 'Fantasy', 'Family']  8844   \n",
       "\n",
       "  original_language                                           overview  \\\n",
       "0                en  Led by Woody, Andy's toys live happily in his ...   \n",
       "1                en  When siblings Judy and Peter discover an encha...   \n",
       "\n",
       "   popularity                               production_companies  \\\n",
       "0   21.946943                        ['Pixar Animation Studios']   \n",
       "1   17.015539  ['TriStar Pictures', 'Teitler Film', 'Intersco...   \n",
       "\n",
       "           production_countries release_date      revenue  runtime  \\\n",
       "0  ['United States of America']   1995-10-30  373554033.0     81.0   \n",
       "1  ['United States of America']   1995-12-15  262797249.0    104.0   \n",
       "\n",
       "          spoken_languages      title  vote_average  vote_count  \\\n",
       "0              ['English']  Toy Story           7.7      5415.0   \n",
       "1  ['English', 'Français']    Jumanji           6.9      2413.0   \n",
       "\n",
       "          directores  release_year      return  \n",
       "0  ['John Lasseter']          1995  1145.18011  \n",
       "1   ['Joe Johnston']          1995   304.30346  "
      ]
     },
     "execution_count": 2,
     "metadata": {},
     "output_type": "execute_result"
    }
   ],
   "source": [
    "#leemos el dataframe ya tratado\n",
    "df = pd.read_csv('data/movies_etl.csv')\n",
    "df.drop(columns=['Unnamed: 0'], inplace=True)\n",
    "df.head(2)"
   ]
  },
  {
   "cell_type": "code",
   "execution_count": 3,
   "metadata": {},
   "outputs": [
    {
     "name": "stdout",
     "output_type": "stream",
     "text": [
      "<class 'pandas.core.frame.DataFrame'>\n",
      "RangeIndex: 42196 entries, 0 to 42195\n",
      "Data columns (total 19 columns):\n",
      " #   Column                 Non-Null Count  Dtype  \n",
      "---  ------                 --------------  -----  \n",
      " 0   belongs_to_collection  39170 non-null  object \n",
      " 1   budget                 42196 non-null  float64\n",
      " 2   genres                 39170 non-null  object \n",
      " 3   id                     42196 non-null  int64  \n",
      " 4   original_language      42196 non-null  object \n",
      " 5   overview               41294 non-null  object \n",
      " 6   popularity             42196 non-null  float64\n",
      " 7   production_companies   42196 non-null  object \n",
      " 8   production_countries   42196 non-null  object \n",
      " 9   release_date           42196 non-null  object \n",
      " 10  revenue                42196 non-null  float64\n",
      " 11  runtime                42196 non-null  float64\n",
      " 12  spoken_languages       42196 non-null  object \n",
      " 13  title                  42196 non-null  object \n",
      " 14  vote_average           42196 non-null  float64\n",
      " 15  vote_count             42196 non-null  float64\n",
      " 16  directores             42196 non-null  object \n",
      " 17  release_year           42196 non-null  int64  \n",
      " 18  return                 42196 non-null  float64\n",
      "dtypes: float64(7), int64(2), object(10)\n",
      "memory usage: 6.1+ MB\n"
     ]
    }
   ],
   "source": [
    "df.info()"
   ]
  },
  {
   "cell_type": "code",
   "execution_count": 4,
   "metadata": {},
   "outputs": [
    {
     "data": {
      "text/plain": [
       "Index(['belongs_to_collection', 'budget', 'genres', 'id', 'original_language',\n",
       "       'overview', 'popularity', 'production_companies',\n",
       "       'production_countries', 'release_date', 'revenue', 'runtime',\n",
       "       'spoken_languages', 'title', 'vote_average', 'vote_count', 'directores',\n",
       "       'release_year', 'return'],\n",
       "      dtype='object')"
      ]
     },
     "execution_count": 4,
     "metadata": {},
     "output_type": "execute_result"
    }
   ],
   "source": [
    "df.columns"
   ]
  },
  {
   "attachments": {},
   "cell_type": "markdown",
   "metadata": {},
   "source": [
    "Nos dejemos solo los valores numericos de las columnas en este momento para encontrar relaciones."
   ]
  },
  {
   "cell_type": "code",
   "execution_count": 5,
   "metadata": {},
   "outputs": [],
   "source": [
    "df_reducido = df[['budget', \n",
    "        'popularity', 'revenue', 'runtime', 'vote_average', 'vote_count', 'return', 'title', 'overview']]"
   ]
  },
  {
   "cell_type": "code",
   "execution_count": 6,
   "metadata": {},
   "outputs": [
    {
     "name": "stdout",
     "output_type": "stream",
     "text": [
      "33940\n",
      "33960\n",
      "35253\n"
     ]
    }
   ],
   "source": [
    "print(len(df[df['budget'] == 0]))\n",
    "print(len(df[df['return'] == 0]))\n",
    "print(len(df[df['revenue'] == 0]))"
   ]
  },
  {
   "attachments": {},
   "cell_type": "markdown",
   "metadata": {},
   "source": [
    "Podemos observar que la cantidad de valores 'nulos' o ceros en estas 3 columnas son demasiado por lo que las evitaremos en nuestro analisis."
   ]
  },
  {
   "cell_type": "code",
   "execution_count": 7,
   "metadata": {},
   "outputs": [
    {
     "name": "stderr",
     "output_type": "stream",
     "text": [
      "C:\\Users\\niko\\AppData\\Local\\Temp\\ipykernel_15372\\50445418.py:1: SettingWithCopyWarning: \n",
      "A value is trying to be set on a copy of a slice from a DataFrame\n",
      "\n",
      "See the caveats in the documentation: https://pandas.pydata.org/pandas-docs/stable/user_guide/indexing.html#returning-a-view-versus-a-copy\n",
      "  df_reducido.drop(columns=['budget', 'return', 'revenue'], inplace=True)\n"
     ]
    }
   ],
   "source": [
    "df_reducido.drop(columns=['budget', 'return', 'revenue'], inplace=True)"
   ]
  },
  {
   "cell_type": "code",
   "execution_count": 8,
   "metadata": {},
   "outputs": [
    {
     "data": {
      "text/html": [
       "<div>\n",
       "<style scoped>\n",
       "    .dataframe tbody tr th:only-of-type {\n",
       "        vertical-align: middle;\n",
       "    }\n",
       "\n",
       "    .dataframe tbody tr th {\n",
       "        vertical-align: top;\n",
       "    }\n",
       "\n",
       "    .dataframe thead th {\n",
       "        text-align: right;\n",
       "    }\n",
       "</style>\n",
       "<table border=\"1\" class=\"dataframe\">\n",
       "  <thead>\n",
       "    <tr style=\"text-align: right;\">\n",
       "      <th></th>\n",
       "      <th>popularity</th>\n",
       "      <th>runtime</th>\n",
       "      <th>vote_average</th>\n",
       "      <th>vote_count</th>\n",
       "    </tr>\n",
       "  </thead>\n",
       "  <tbody>\n",
       "    <tr>\n",
       "      <th>count</th>\n",
       "      <td>42196.000000</td>\n",
       "      <td>42196.000000</td>\n",
       "      <td>42196.000000</td>\n",
       "      <td>42196.000000</td>\n",
       "    </tr>\n",
       "    <tr>\n",
       "      <th>mean</th>\n",
       "      <td>2.914097</td>\n",
       "      <td>93.852987</td>\n",
       "      <td>5.631261</td>\n",
       "      <td>109.391720</td>\n",
       "    </tr>\n",
       "    <tr>\n",
       "      <th>std</th>\n",
       "      <td>5.744661</td>\n",
       "      <td>37.578123</td>\n",
       "      <td>1.921395</td>\n",
       "      <td>489.341742</td>\n",
       "    </tr>\n",
       "    <tr>\n",
       "      <th>min</th>\n",
       "      <td>0.000000</td>\n",
       "      <td>0.000000</td>\n",
       "      <td>0.000000</td>\n",
       "      <td>0.000000</td>\n",
       "    </tr>\n",
       "    <tr>\n",
       "      <th>25%</th>\n",
       "      <td>0.387424</td>\n",
       "      <td>85.000000</td>\n",
       "      <td>5.000000</td>\n",
       "      <td>3.000000</td>\n",
       "    </tr>\n",
       "    <tr>\n",
       "      <th>50%</th>\n",
       "      <td>1.136089</td>\n",
       "      <td>95.000000</td>\n",
       "      <td>6.000000</td>\n",
       "      <td>10.000000</td>\n",
       "    </tr>\n",
       "    <tr>\n",
       "      <th>75%</th>\n",
       "      <td>3.717885</td>\n",
       "      <td>106.000000</td>\n",
       "      <td>6.800000</td>\n",
       "      <td>35.000000</td>\n",
       "    </tr>\n",
       "    <tr>\n",
       "      <th>max</th>\n",
       "      <td>547.488298</td>\n",
       "      <td>1256.000000</td>\n",
       "      <td>10.000000</td>\n",
       "      <td>14075.000000</td>\n",
       "    </tr>\n",
       "  </tbody>\n",
       "</table>\n",
       "</div>"
      ],
      "text/plain": [
       "         popularity       runtime  vote_average    vote_count\n",
       "count  42196.000000  42196.000000  42196.000000  42196.000000\n",
       "mean       2.914097     93.852987      5.631261    109.391720\n",
       "std        5.744661     37.578123      1.921395    489.341742\n",
       "min        0.000000      0.000000      0.000000      0.000000\n",
       "25%        0.387424     85.000000      5.000000      3.000000\n",
       "50%        1.136089     95.000000      6.000000     10.000000\n",
       "75%        3.717885    106.000000      6.800000     35.000000\n",
       "max      547.488298   1256.000000     10.000000  14075.000000"
      ]
     },
     "execution_count": 8,
     "metadata": {},
     "output_type": "execute_result"
    }
   ],
   "source": [
    "df_reducido.describe()"
   ]
  },
  {
   "attachments": {},
   "cell_type": "markdown",
   "metadata": {},
   "source": [
    "Observamos que los valores minimos destacan los 0 que serian practicamente nulos, veamos un poco mas alla."
   ]
  },
  {
   "cell_type": "code",
   "execution_count": 9,
   "metadata": {},
   "outputs": [
    {
     "name": "stdout",
     "output_type": "stream",
     "text": [
      "popularity\n",
      "0.000001    53\n",
      "0.000308    40\n",
      "0.000000    40\n",
      "0.000844    37\n",
      "0.000220    37\n",
      "Name: count, dtype: int64\n",
      "runtime\n",
      "90.000000     2348\n",
      "93.852987     1460\n",
      "100.000000    1343\n",
      "95.000000     1289\n",
      "93.000000     1124\n",
      "Name: count, dtype: int64\n",
      "vote_average\n",
      "0.0    2756\n",
      "6.0    2281\n",
      "5.0    1834\n",
      "7.0    1744\n",
      "6.5    1603\n",
      "Name: count, dtype: int64\n",
      "vote_count\n",
      "1.0    3008\n",
      "2.0    2885\n",
      "0.0    2667\n",
      "3.0    2576\n",
      "4.0    2277\n",
      "Name: count, dtype: int64\n"
     ]
    },
    {
     "name": "stderr",
     "output_type": "stream",
     "text": [
      "C:\\Users\\niko\\AppData\\Local\\Temp\\ipykernel_15372\\2881834900.py:2: SettingWithCopyWarning: \n",
      "A value is trying to be set on a copy of a slice from a DataFrame\n",
      "\n",
      "See the caveats in the documentation: https://pandas.pydata.org/pandas-docs/stable/user_guide/indexing.html#returning-a-view-versus-a-copy\n",
      "  df_reducido.runtime.replace(0.0, df_reducido.runtime.mean(), inplace=True)\n"
     ]
    }
   ],
   "source": [
    "print(df_reducido.popularity.value_counts().sort_values(ascending=False).head(5))\n",
    "df_reducido.runtime.replace(0.0, df_reducido.runtime.mean(), inplace=True)\n",
    "print(df_reducido.runtime.value_counts().sort_values(ascending=False).head(5))\n",
    "print(df_reducido.vote_average.value_counts().sort_values(ascending=False).head(5))\n",
    "print(df_reducido.vote_count.value_counts().sort_values(ascending=False).head(5))"
   ]
  },
  {
   "cell_type": "code",
   "execution_count": 10,
   "metadata": {},
   "outputs": [
    {
     "name": "stdout",
     "output_type": "stream",
     "text": [
      "promedio popularity: 2.9140973274480992\n",
      "promedio runtime: 97.10034113209677\n",
      "promedio vote_average: 5.631261256991183\n",
      "promedio vote_count: 109.39171959427433\n"
     ]
    }
   ],
   "source": [
    "print(f'promedio popularity: {df_reducido.popularity.mean()}')\n",
    "print(f'promedio runtime: {df_reducido.runtime.mean()}')\n",
    "print(f'promedio vote_average: {df_reducido.vote_average.mean()}')\n",
    "print(f'promedio vote_count: {df_reducido.vote_count.mean()}')"
   ]
  },
  {
   "cell_type": "code",
   "execution_count": 11,
   "metadata": {},
   "outputs": [
    {
     "data": {
      "text/html": [
       "<div>\n",
       "<style scoped>\n",
       "    .dataframe tbody tr th:only-of-type {\n",
       "        vertical-align: middle;\n",
       "    }\n",
       "\n",
       "    .dataframe tbody tr th {\n",
       "        vertical-align: top;\n",
       "    }\n",
       "\n",
       "    .dataframe thead th {\n",
       "        text-align: right;\n",
       "    }\n",
       "</style>\n",
       "<table border=\"1\" class=\"dataframe\">\n",
       "  <thead>\n",
       "    <tr style=\"text-align: right;\">\n",
       "      <th></th>\n",
       "      <th>vote_average</th>\n",
       "      <th>vote_count</th>\n",
       "    </tr>\n",
       "  </thead>\n",
       "  <tbody>\n",
       "    <tr>\n",
       "      <th>count</th>\n",
       "      <td>42196.000000</td>\n",
       "      <td>42196.000000</td>\n",
       "    </tr>\n",
       "    <tr>\n",
       "      <th>mean</th>\n",
       "      <td>5.631261</td>\n",
       "      <td>109.391720</td>\n",
       "    </tr>\n",
       "    <tr>\n",
       "      <th>std</th>\n",
       "      <td>1.921395</td>\n",
       "      <td>489.341742</td>\n",
       "    </tr>\n",
       "    <tr>\n",
       "      <th>min</th>\n",
       "      <td>0.000000</td>\n",
       "      <td>0.000000</td>\n",
       "    </tr>\n",
       "    <tr>\n",
       "      <th>25%</th>\n",
       "      <td>5.000000</td>\n",
       "      <td>3.000000</td>\n",
       "    </tr>\n",
       "    <tr>\n",
       "      <th>50%</th>\n",
       "      <td>6.000000</td>\n",
       "      <td>10.000000</td>\n",
       "    </tr>\n",
       "    <tr>\n",
       "      <th>75%</th>\n",
       "      <td>6.800000</td>\n",
       "      <td>35.000000</td>\n",
       "    </tr>\n",
       "    <tr>\n",
       "      <th>max</th>\n",
       "      <td>10.000000</td>\n",
       "      <td>14075.000000</td>\n",
       "    </tr>\n",
       "  </tbody>\n",
       "</table>\n",
       "</div>"
      ],
      "text/plain": [
       "       vote_average    vote_count\n",
       "count  42196.000000  42196.000000\n",
       "mean       5.631261    109.391720\n",
       "std        1.921395    489.341742\n",
       "min        0.000000      0.000000\n",
       "25%        5.000000      3.000000\n",
       "50%        6.000000     10.000000\n",
       "75%        6.800000     35.000000\n",
       "max       10.000000  14075.000000"
      ]
     },
     "execution_count": 11,
     "metadata": {},
     "output_type": "execute_result"
    }
   ],
   "source": [
    "df_votes = df_reducido[['title', 'vote_average','vote_count', 'overview']]\n",
    "df_votes.describe()"
   ]
  },
  {
   "cell_type": "code",
   "execution_count": 12,
   "metadata": {},
   "outputs": [],
   "source": [
    "df_votes = df_votes[df_votes['vote_average'] != 0]\n",
    "df_votes = df_votes[df_votes['vote_count'] != 0]"
   ]
  },
  {
   "cell_type": "code",
   "execution_count": 13,
   "metadata": {},
   "outputs": [
    {
     "data": {
      "text/plain": [
       "(39440, 4)"
      ]
     },
     "execution_count": 13,
     "metadata": {},
     "output_type": "execute_result"
    }
   ],
   "source": [
    "df_votes.shape"
   ]
  },
  {
   "cell_type": "code",
   "execution_count": 14,
   "metadata": {},
   "outputs": [
    {
     "data": {
      "image/png": "[encoded data removed]",
      "text/plain": [
       "<Figure size 1000x500 with 2 Axes>"
      ]
     },
     "metadata": {},
     "output_type": "display_data"
    }
   ],
   "source": [
    "fig, axs = plt.subplots(nrows=2, ncols=1, figsize=(10, 5))\n",
    "sns.boxplot(x=df_votes['vote_average'], ax=axs[0])\n",
    "sns.boxplot(x=df_votes['vote_count'], ax=axs[1])\n",
    "\n",
    "plt.tight_layout()\n",
    "plt.show()"
   ]
  },
  {
   "attachments": {},
   "cell_type": "markdown",
   "metadata": {},
   "source": [
    "Podemos ver que estan muy borrosos nuestros datos, tratemos un poco estos excesos."
   ]
  },
  {
   "attachments": {},
   "cell_type": "markdown",
   "metadata": {},
   "source": [
    "por lo que pondremos un umbral a las peliculas con mas de 500 votos para dar fe de que el promedio de votacion sera real."
   ]
  },
  {
   "cell_type": "code",
   "execution_count": 15,
   "metadata": {},
   "outputs": [
    {
     "data": {
      "text/plain": [
       "(2798, 4)"
      ]
     },
     "execution_count": 15,
     "metadata": {},
     "output_type": "execute_result"
    }
   ],
   "source": [
    "df_votes['vote_count'] = df_votes['vote_count'].apply(lambda x: x if x > 300 else None)\n",
    "df_votes = df_votes.dropna()\n",
    "df_votes.shape"
   ]
  },
  {
   "attachments": {},
   "cell_type": "markdown",
   "metadata": {},
   "source": [
    "Wow, tan solo 2798 peliculas fueron votadas por mas de 300 personas."
   ]
  },
  {
   "cell_type": "code",
   "execution_count": 16,
   "metadata": {},
   "outputs": [
    {
     "data": {
      "image/png": "[encoded data removed]",
      "text/plain": [
       "<Figure size 640x480 with 1 Axes>"
      ]
     },
     "metadata": {},
     "output_type": "display_data"
    }
   ],
   "source": [
    "plt.hist(df_votes['vote_average'], log= True)\n",
    "plt.title('Puntaje promedio')\n",
    "plt.show()"
   ]
  },
  {
   "attachments": {},
   "cell_type": "markdown",
   "metadata": {},
   "source": [
    "Podemos observar que la mayoria de los votos se establecen entre un puntaje de 5 y 8"
   ]
  },
  {
   "cell_type": "code",
   "execution_count": 17,
   "metadata": {},
   "outputs": [
    {
     "data": {
      "image/png": "[encoded data removed]",
      "text/plain": [
       "<Figure size 640x480 with 1 Axes>"
      ]
     },
     "metadata": {},
     "output_type": "display_data"
    }
   ],
   "source": [
    "df_votes['vote_count'].hist(bins=20)\n",
    "plt.title('Cantidad de votos por pelicula')\n",
    "plt.show()"
   ]
  },
  {
   "attachments": {},
   "cell_type": "markdown",
   "metadata": {},
   "source": [
    "Tambien vemos que la gran mayoria de las peliculas poseen menos de 2000 votos, por lo que la distribucion esta muy sesgada a la izquierda."
   ]
  },
  {
   "cell_type": "code",
   "execution_count": 18,
   "metadata": {},
   "outputs": [
    {
     "data": {
      "image/png": "[encoded data removed]",
      "text/plain": [
       "<Figure size 1000x500 with 2 Axes>"
      ]
     },
     "metadata": {},
     "output_type": "display_data"
    }
   ],
   "source": [
    "fig, axs = plt.subplots(nrows=2, ncols=1, figsize=(10, 5))\n",
    "sns.boxplot(x=df_votes['vote_average'], ax=axs[0])\n",
    "sns.boxplot(x=df_votes['vote_count'], ax=axs[1])\n",
    "\n",
    "plt.tight_layout()\n",
    "plt.show()"
   ]
  },
  {
   "attachments": {},
   "cell_type": "markdown",
   "metadata": {},
   "source": [
    "Ahora nuestros datos estan un poco mas legibles pero el sistema sigue tomando como outlayers, veamos si podemos encontrar algo que justifique a las 10 peliculas con mas votos. las grafiquemos."
   ]
  },
  {
   "cell_type": "code",
   "execution_count": 19,
   "metadata": {},
   "outputs": [
    {
     "name": "stdout",
     "output_type": "stream",
     "text": [
      "pelicula con mas votos y puntaje: Dilwale Dulhania Le Jayenge\n",
      "pelicula con menos votos y puntaje: Dragonball Evolution\n"
     ]
    }
   ],
   "source": [
    "#busquemos las peliculas con mayor relacion puntaje voto.\n",
    "df_votes = df_votes.sort_values(by=['vote_average', 'vote_count'], ascending=False)\n",
    "print(f'pelicula con mas votos y puntaje: {df_votes.iloc[0, 0]}')\n",
    "print(f'pelicula con menos votos y puntaje: {df_votes.iloc[-1, 0]}')"
   ]
  },
  {
   "cell_type": "code",
   "execution_count": 20,
   "metadata": {},
   "outputs": [
    {
     "data": {
      "image/png": "[encoded data removed]",
      "text/plain": [
       "<Figure size 800x300 with 1 Axes>"
      ]
     },
     "metadata": {},
     "output_type": "display_data"
    }
   ],
   "source": [
    "top_10 = df_votes.sort_values(by=['vote_count'], ascending=False).head(10)\n",
    "fig = plt.figure(figsize=(8, 3))\n",
    "sns.barplot(data=top_10, y='title', x='vote_average')\n",
    "plt.title('Top 10 peliculas mejor votadas')\n",
    "plt.show()"
   ]
  },
  {
   "attachments": {},
   "cell_type": "markdown",
   "metadata": {},
   "source": [
    "Podemos ver que efectivamente las 10 peliculas mas votadas han sido un hito en su momento por lo que no deberia resultarnos como un outlier."
   ]
  },
  {
   "attachments": {},
   "cell_type": "markdown",
   "metadata": {},
   "source": [
    "Ya entendiendo un poco mejor los datos del dataframe podremos crear el sistema de recomendacion, nos centraremos en hacer un sistema simple que recomiende las peliculas con mas de 300 votos de este dataset junto a un proceso de lenguaje natural para buscar la descripcion de las peliculas parecidas y asi poder recomendar las mismas."
   ]
  },
  {
   "cell_type": "code",
   "execution_count": 21,
   "metadata": {},
   "outputs": [],
   "source": [
    "df_votes.to_csv('data/movies_ml.csv')"
   ]
  }
 ],
 "metadata": {
  "kernelspec": {
   "display_name": "sis_rec",
   "language": "python",
   "name": "python3"
  },
  "language_info": {
   "codemirror_mode": {
    "name": "ipython",
    "version": 3
   },
   "file_extension": ".py",
   "mimetype": "text/x-python",
   "name": "python",
   "nbconvert_exporter": "python",
   "pygments_lexer": "ipython3",
   "version": "3.11.1"
  },
  "orig_nbformat": 4
 },
 "nbformat": 4,
 "nbformat_minor": 2
}
